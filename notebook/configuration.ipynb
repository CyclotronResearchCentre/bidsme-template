{
 "cells": [
  {
   "cell_type": "markdown",
   "id": "6e7d4ee0-7f46-4432-b807-d7bcb11cc0ba",
   "metadata": {},
   "source": [
    "# Configuration"
   ]
  },
  {
   "cell_type": "markdown",
   "id": "1a7f179b-4a8a-49f4-ae7d-35c0581c288a",
   "metadata": {},
   "source": [
    "> Will be executed automatically during bidsification or maintenance"
   ]
  },
  {
   "cell_type": "markdown",
   "id": "84946a5a-a92a-43a0-98ca-779759dd4ac6",
   "metadata": {
    "tags": []
   },
   "source": [
    "## Dataset paths definition"
   ]
  },
  {
   "cell_type": "markdown",
   "id": "790c8996-d6e6-46d1-a923-528131abc3a5",
   "metadata": {},
   "source": [
    "Switch to use development or production datassets.\n",
    "\n",
    " - Development dataset is used for [development bidsification](./bidsification_dev.ipynb)\n",
    " - Production dataset is used for [production bidsification](./bidsification_prod.ipynb)"
   ]
  },
  {
   "cell_type": "markdown",
   "id": "17652ea0-f217-4fa8-a395-5935fa39d2a1",
   "metadata": {},
   "source": [
    "Definition of datasets paths:\n",
    "\n",
    " - `base_path`: path to working directory, to simplify paths creation\n",
    " - `source`: path to the source (unbidsified) dataset\n",
    " - `prepared`: path to the prepared dataset\n",
    " - `bidsified`: path to the bidsified dataset\n",
    " \n",
    " In example below it is assumed that source, prepared, and bidsified datasets are in the same directory.\n",
    " Feel free to adapt paths to your setup."
   ]
  },
  {
   "cell_type": "code",
   "execution_count": null,
   "id": "cb0a77aa-c82a-4cf1-8e71-b17c2aa0eecd",
   "metadata": {},
   "outputs": [],
   "source": [
    "import os\n",
    "import shutil"
   ]
  },
  {
   "cell_type": "code",
   "execution_count": null,
   "id": "2638e412-a926-4f07-8f6f-e0177c70ec84",
   "metadata": {},
   "outputs": [],
   "source": [
    "def generate_paths(production=True):\n",
    "    \"\"\"\n",
    "    Returns the deifined paths to source, prepared and bidsified datasets.\n",
    "    The 'production' switch allow to change between test and production\n",
    "    datasets.\n",
    "    \"\"\"\n",
    "    if production: \n",
    "        # Production dataset\n",
    "        print(\"Working on production dataset\")\n",
    "        base_path = \"<Path to full data>\"\n",
    "        source = os.path.join(base_path, \"source\")\n",
    "        prepared = os.path.join(base_path, \"prepared\")\n",
    "        bidsified = os.path.join(base_path, \"bidsified\")\n",
    "    else:\n",
    "        # Test dataset\n",
    "        print(\"Working on test dataset\")\n",
    "        base_path = \"<Path to suset of data>\"\n",
    "        source = os.path.join(base_path, \"source\")\n",
    "        prepared = os.path.join(base_path, \"prepared\")\n",
    "        bidsified = os.path.join(base_path, \"bidsified\")\n",
    "    assert os.path.isdir(base_path), base_path\n",
    "    assert os.path.isdir(source), source\n",
    "    assert os.path.isdir(prepared), prepared\n",
    "    assert os.path.isdir(bidsified), bidsified\n",
    "    \n",
    "    return source, prepared, bidsified"
   ]
  },
  {
   "cell_type": "markdown",
   "id": "97934e05-5e08-453f-9834-daf7e06d8542",
   "metadata": {},
   "source": [
    "Uncomment following lines for testing defined paths. An error will point wich of the paths are ill defined:"
   ]
  },
  {
   "cell_type": "code",
   "execution_count": null,
   "id": "67db2445-e1cb-4c7f-ae8c-2e399b04aecc",
   "metadata": {},
   "outputs": [],
   "source": [
    "# generate_paths(True)\n",
    "# generate_paths(False)"
   ]
  },
  {
   "cell_type": "markdown",
   "id": "6fc7d7a3-3789-4cbf-ab76-355ec0db6be9",
   "metadata": {
    "tags": []
   },
   "source": [
    "## Plugins paths definitions\n",
    "\n",
    "Here the paths to plugins ([preparation](../plugins/prepare_plugin.py), [bidsification](../plugins/prepare_plugin.py)) will be defined and tested.\n",
    "\n",
    "> If plugins and other files are stored together with this motebook, it is usefull to provide a link to them."
   ]
  },
  {
   "cell_type": "code",
   "execution_count": null,
   "id": "9d96a16b-eb54-4f28-80c0-ca194759107a",
   "metadata": {},
   "outputs": [],
   "source": [
    "resources = os.path.dirname(os.getcwd())\n",
    "prepare_plugin = os.path.join(resources, \"plugins\", \"prepare_plugin.py\")\n",
    "bidsify_plugin = os.path.join(resources, \"plugins\", \"bidsify_plugin.py\")"
   ]
  },
  {
   "cell_type": "code",
   "execution_count": null,
   "id": "16c35463-6150-4d4f-b1eb-96c61eeaf2c3",
   "metadata": {},
   "outputs": [],
   "source": [
    "assert os.path.isdir(resources)\n",
    "assert os.path.isfile(prepare_plugin), prepare_plugin\n",
    "assert os.path.isfile(bidsify_plugin), bidsify_plugin"
   ]
  },
  {
   "cell_type": "markdown",
   "id": "33a10068-545a-4605-acfa-25d072156f52",
   "metadata": {},
   "source": [
    "## Bidsmap and other configuration files definition"
   ]
  },
  {
   "cell_type": "markdown",
   "id": "5164dbe3-4f58-41f2-bc64-fb8ed6d477d3",
   "metadata": {},
   "source": [
    "Here the paths to [bidsmap](../maps/bidsmap.yaml) and other configuration files ([participants template](../templates/participants.json)) are defined"
   ]
  },
  {
   "cell_type": "code",
   "execution_count": null,
   "id": "6e627762-84f0-4276-890b-3312a3d77c26",
   "metadata": {},
   "outputs": [],
   "source": [
    "bidsmap = os.path.join(resources, \"map\", \"bidsmap.yaml\")\n",
    "part_template = os.path.join(resources, \"template\", \"participants.json\")"
   ]
  },
  {
   "cell_type": "code",
   "execution_count": null,
   "id": "746e6a02-f9a4-497e-9bc0-9c300b336b06",
   "metadata": {},
   "outputs": [],
   "source": [
    "assert os.path.isfile(bidsmap), bidsmap\n",
    "assert os.path.isfile(part_template), bidsmap"
   ]
  }
 ],
 "metadata": {
  "kernelspec": {
   "display_name": "bidsme (Python 3.10.13)",
   "language": "python",
   "name": "bidsme"
  },
  "language_info": {
   "codemirror_mode": {
    "name": "ipython",
    "version": 3
   },
   "file_extension": ".py",
   "mimetype": "text/x-python",
   "name": "python",
   "nbconvert_exporter": "python",
   "pygments_lexer": "ipython3",
   "version": "3.10.13"
  }
 },
 "nbformat": 4,
 "nbformat_minor": 5
}
