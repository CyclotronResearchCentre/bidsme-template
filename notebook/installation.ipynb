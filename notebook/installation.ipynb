{
 "cells": [
  {
   "cell_type": "markdown",
   "id": "30c0e682-1adb-4bb5-bbd8-251591fd4a3f",
   "metadata": {
    "tags": []
   },
   "source": [
    "# Installation and update\n",
    "\n",
    "To use when the installation/update for `bidsme` and/or other packages are needed"
   ]
  },
  {
   "cell_type": "markdown",
   "id": "3e4916a7-7351-408f-b02d-dbc3c8dfc41d",
   "metadata": {
    "tags": []
   },
   "source": [
    "## Python path definition\n",
    "\n",
    "**In order to install packages in the current evironment, you need to ensure that you use correct python path**\n",
    "\n",
    "**Verify** that the output of following command is not system standard one!"
   ]
  },
  {
   "cell_type": "code",
   "execution_count": null,
   "id": "30238e2b-e0de-4e8b-af4d-10166602387f",
   "metadata": {},
   "outputs": [],
   "source": [
    "import sys\n",
    "sys.executable"
   ]
  },
  {
   "cell_type": "code",
   "execution_count": null,
   "id": "9842aa63-74fe-4a1e-a948-e9bd58d6f2d1",
   "metadata": {},
   "outputs": [],
   "source": [
    "!{sys.executable} --version"
   ]
  },
  {
   "cell_type": "code",
   "execution_count": null,
   "id": "aba27c68-3f8a-49ee-b1f1-e4f1ecb296ea",
   "metadata": {},
   "outputs": [],
   "source": [
    "!{sys.executable} -m pip --version"
   ]
  },
  {
   "cell_type": "markdown",
   "id": "7902b4cd-712d-4f65-af45-66a1fbc147e1",
   "metadata": {},
   "source": [
    "All subsequent pip command should be in form of:\n",
    "\n",
    "```python\n",
    "!{sys.executable} -m pip install ...\n",
    "```\n",
    "\n",
    "For conda:\n",
    "```python\n",
    "!conda install --prefix {sys.prefix} ...\n",
    "```"
   ]
  },
  {
   "cell_type": "markdown",
   "id": "963288c6-7497-4bdd-a016-0809aad39cde",
   "metadata": {
    "tags": []
   },
   "source": [
    "## Bidsme"
   ]
  },
  {
   "cell_type": "code",
   "execution_count": null,
   "id": "b385e1e9-c4a9-4169-951b-7796982f7819",
   "metadata": {},
   "outputs": [],
   "source": [
    "!{sys.executable} -m pip install -U git+https://gitlab.uliege.be/CyclotronResearchCentre/Public/bidstools/bidsme/bidsme.git"
   ]
  },
  {
   "cell_type": "markdown",
   "id": "3e1a0ec5-c45e-480a-8b9f-6e6b60d97991",
   "metadata": {
    "tags": []
   },
   "source": [
    "## Additional packages"
   ]
  },
  {
   "cell_type": "markdown",
   "id": "01282969-3cab-4f63-8c1f-e0a469883821",
   "metadata": {},
   "source": [
    "Add here all packages needed to bi installed. Also add comments why these packages needed."
   ]
  },
  {
   "cell_type": "code",
   "execution_count": null,
   "id": "e553a6d9-c99c-465e-b445-a7493d82ad8e",
   "metadata": {},
   "outputs": [],
   "source": [
    "# nbformat is needed in order to run notebooks from within other notebooks\n",
    "!{sys.executable} -m pip install -U nbformat"
   ]
  },
  {
   "cell_type": "markdown",
   "id": "e218cd3d-7b56-49ea-9ba8-48adfecd5cda",
   "metadata": {
    "tags": []
   },
   "source": [
    "## Updating pip"
   ]
  },
  {
   "cell_type": "markdown",
   "id": "b2f5fe8d-4961-40e2-b3bb-b034d9a156e1",
   "metadata": {},
   "source": [
    "> Only when pip can't find needed version of package and says that it needs to be updated"
   ]
  },
  {
   "cell_type": "code",
   "execution_count": null,
   "id": "c0829b8d-bc35-4c75-adcb-222fc28f8609",
   "metadata": {},
   "outputs": [],
   "source": [
    "!{sys.executable} -m pip install --upgrade pip"
   ]
  },
  {
   "cell_type": "markdown",
   "id": "2534dacb-3182-4363-a380-c1767afca804",
   "metadata": {
    "tags": []
   },
   "source": [
    "## Usage of virtual environments in jupyther-notebook/lab\n",
    "\n",
    "> All following commands must be executed in terminal. **Not in notebook**"
   ]
  },
  {
   "cell_type": "markdown",
   "id": "1e3a421b-10df-4154-92a2-ee40d5779970",
   "metadata": {},
   "source": [
    "To install and use notebooks in specific environment (named for ex. `bidsme`),\n",
    "first this enveronment must be created:\n",
    "\n",
    "[\\*NIX](https://docs.python.org/3/tutorial/venv.html)\n",
    "```\n",
    "python3 -m venv bidsme_env -p python3.9\n",
    "source bidsme_env/bin/activate\n",
    "```\n",
    "\n",
    "[Conda](https://docs.conda.io/projects/conda/en/latest/user-guide/tasks/manage-environments.html)\n",
    "```\n",
    "conda create --name bidsme_env python=3.9\n",
    "conda activate bidsme_env\n",
    "```\n",
    "\n",
    "The optional parameters `-p python3.9` and `python=3.9` allow to specify\n",
    "version of python to use.\n",
    "It is nessesary for most modern systems, as `bidsme` is supports Python<3.11.\n",
    "\n",
    "Once environment is activated, it must be registered as `ipython` kernel:\n",
    "```\n",
    "python -m pip install ipykernel\n",
    "python -m ipykernel install --user --name bidsme --display-name \"bidsme (Python 3.9)\"\n",
    "```\n",
    "\n",
    "Then, the created kernell can be selected in the kernell drop-down list of notebooks."
   ]
  }
 ],
 "metadata": {
  "kernelspec": {
   "display_name": "bidsme (Python 3.10.13)",
   "language": "python",
   "name": "bidsme"
  },
  "language_info": {
   "codemirror_mode": {
    "name": "ipython",
    "version": 3
   },
   "file_extension": ".py",
   "mimetype": "text/x-python",
   "name": "python",
   "nbconvert_exporter": "python",
   "pygments_lexer": "ipython3",
   "version": "3.10.13"
  }
 },
 "nbformat": 4,
 "nbformat_minor": 5
}
